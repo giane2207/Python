{
 "cells": [
  {
   "cell_type": "markdown",
   "metadata": {
    "slideshow": {
     "slide_type": "slide"
    }
   },
   "source": [
    "## Explicacion de ejercicio 10\n",
    "---\n"
   ]
  },
  {
   "cell_type": "markdown",
   "metadata": {},
   "source": [
    "## Estructura de archivos del ejercicio\n",
    "```none\n",
    "ejercicio10/\n",
    "├── Notebooks/\n",
    "│   └── simulador.ipynb\n",
    "├── src/\n",
    "│   ├── utils/\n",
    "│   │   └── __init__.py\n",
    "│   └── main.py\n",
    "├── README.md\n",
    "└── requirements.txt\n",
    "```\n",
    "\n",
    "---"
   ]
  },
  {
   "cell_type": "markdown",
   "metadata": {},
   "source": [
    "## Mis funciones\n",
    "* simulador_partidas()\n",
    "* inicializar_jugador()\n",
    "* actualizar_jugador()\n",
    "* calcular_puntos()\n",
    "* imprimir_ranking()\n",
    "\n"
   ]
  },
  {
   "cell_type": "code",
   "execution_count": 1,
   "metadata": {},
   "outputs": [],
   "source": [
    "import sys\n",
    "import os\n",
    "\n",
    "sys.path.append(os.path.abspath(\"../src\"))"
   ]
  },
  {
   "cell_type": "markdown",
   "metadata": {},
   "source": [
    "## Que hace la funcion simulador_partidas()?"
   ]
  },
  {
   "cell_type": "code",
   "execution_count": 20,
   "metadata": {},
   "outputs": [],
   "source": [
    "scoring = {\n",
    "    'kill': 3,\n",
    "    'assist': 1,\n",
    "    'death': -1\n",
    "}       \n",
    "rounds = [\n",
    "    {\n",
    "        'Shadow': {'kills': 2, 'assists': 1, 'deaths': True},\n",
    "        'Blaze': {'kills': 1, 'assists': 0, 'deaths': False},\n",
    "        'Viper': {'kills': 1, 'assists': 2, 'deaths': True},\n",
    "        'Frost': {'kills': 0, 'assists': 1, 'deaths': False},\n",
    "        'Reaper': {'kills': 1, 'assists': 1, 'deaths': False}\n",
    "    },\n",
    "    {\n",
    "        'Shadow': {'kills': 0, 'assists': 2, 'deaths': False},\n",
    "        'Blaze': {'kills': 2, 'assists': 0, 'deaths': True},\n",
    "        'Viper': {'kills': 1, 'assists': 1, 'deaths': False},\n",
    "        'Frost': {'kills': 2, 'assists': 1, 'deaths': True},\n",
    "        'Reaper': {'kills': 0, 'assists': 1, 'deaths': False}\n",
    "    },\n",
    "    {\n",
    "        'Shadow': {'kills': 1, 'assists': 0, 'deaths': False},\n",
    "        'Blaze': {'kills': 2, 'assists': 2, 'deaths': True},\n",
    "        'Viper': {'kills': 1, 'assists': 1, 'deaths': True},\n",
    "        'Frost': {'kills': 0, 'assists': 1, 'deaths': False},\n",
    "        'Reaper': {'kills': 1, 'assists': 1, 'deaths': False}\n",
    "    },\n",
    "    {\n",
    "        'Shadow': {'kills': 2, 'assists': 1, 'deaths': False},\n",
    "        'Blaze': {'kills': 1, 'assists': 0, 'deaths': True},\n",
    "        'Viper': {'kills': 0, 'assists': 2, 'deaths': False},\n",
    "        'Frost': {'kills': 1, 'assists': 1, 'deaths': True},\n",
    "        'Reaper': {'kills': 1, 'assists': 1, 'deaths': False}\n",
    "    },\n",
    "    {\n",
    "        'Shadow': {'kills': 1, 'assists': 2, 'deaths': True},\n",
    "        'Blaze': {'kills': 0, 'assists': 1, 'deaths': False},\n",
    "        'Viper': {'kills': 2, 'assists': 0, 'deaths': True},\n",
    "        'Frost': {'kills': 1, 'assists': 1, 'deaths': False},\n",
    "        'Reaper': {'kills': 1, 'assists': 1, 'deaths': True}\n",
    "    }\n",
    "]  "
   ]
  },
  {
   "cell_type": "code",
   "execution_count": null,
   "metadata": {},
   "outputs": [],
   "source": [
    "from utils import * \n",
    "\n",
    "def simulador_partidas (rounds, scoring):\n",
    "    \"\"\"Simula todas las rondas y muestra los rankings parciales y final\"\"\"\n",
    "    ranking = {}\n",
    "\n",
    "    for ronda in rounds:\n",
    "\n",
    "         points_round = {}\n",
    "\n",
    "         for jugador, datos in ronda.items():  \n",
    "             #Inicializar jugador si no esta en el ranking\n",
    "             inicializar_jugador(jugador, ranking) \n",
    "            \n",
    "             # Actualizo los datos del jugador\n",
    "             actualizar_jugador(jugador, ranking, datos) \n",
    "            \n",
    "             # Calculo puntos obtenidos en esta ronda\n",
    "             puntos = calcular_puntos(datos, scoring)  \n",
    "             ranking[jugador]['points'] += puntos\n",
    "             points_round[jugador] = puntos\n",
    "\n",
    "         # Determino y guardo el MVP de la ronda\n",
    "         MVP = max(points_round, key=points_round.get)\n",
    "         ranking[MVP]['MVPs'] += 1\n",
    "\n",
    "         # Muestro el ranking parcial\n",
    "         print(\"\\nRanking Parcial:\")\n",
    "         print(imprimir_ranking(ranking)) \n",
    "\n",
    "    # Muestro el ranking final\n",
    "    print(\"\\nRanking Final:\")\n",
    "    print(imprimir_ranking(ranking)) \n",
    "\n",
    "simulador_partidas(rounds, scoring)"
   ]
  },
  {
   "cell_type": "markdown",
   "metadata": {},
   "source": [
    "## Que hace la funcion inicializar_jugador()?"
   ]
  },
  {
   "cell_type": "code",
   "execution_count": null,
   "metadata": {},
   "outputs": [],
   "source": [
    "def inicializar_jugador (jugador, ranking):\n",
    "    \"\"\"Inserta nuevos jugadores en el ranking con sus datos inicializados\"\"\"\n",
    "    if jugador not in ranking:  \n",
    "            ranking[jugador] = {\n",
    "                'kills': 0,\n",
    "                'assists': 0,\n",
    "                'deaths': 0,\n",
    "                'MVPs': 0,\n",
    "                'points': 0\n",
    "            }"
   ]
  },
  {
   "cell_type": "markdown",
   "metadata": {},
   "source": [
    "## Que hace la funcion actualizar_jugador()?"
   ]
  },
  {
   "cell_type": "code",
   "execution_count": null,
   "metadata": {},
   "outputs": [],
   "source": [
    "def actualizar_jugador (jugador, ranking, datos):\n",
    "     \"\"\"Actualiza los datos de un jugador existente en el ranking\"\"\"\n",
    "     ranking[jugador]['kills'] += datos['kills']\n",
    "     ranking[jugador]['assists'] += datos['assists']\n",
    "     ranking[jugador]['deaths'] += int(datos['deaths']) # Convierte true en 1, false en 0\n"
   ]
  },
  {
   "cell_type": "markdown",
   "metadata": {},
   "source": [
    "## Que hace la funcion calcular_puntos()?"
   ]
  },
  {
   "cell_type": "code",
   "execution_count": 18,
   "metadata": {},
   "outputs": [],
   "source": [
    "def calcular_puntos (datos, scoring):\n",
    "    \"\"\"Calcula los puntos obtenidos del jugador de acuerdo al sistema de puntuacion\"\"\"\n",
    "    puntos = datos['kills'] * scoring['kill']\n",
    "    puntos += datos['assists'] * scoring['assist']\n",
    "    if datos['deaths']:\n",
    "         puntos += scoring['death'] \n",
    "    return puntos"
   ]
  },
  {
   "cell_type": "markdown",
   "metadata": {},
   "source": [
    "## Como funciona el imprimir_ranking()?"
   ]
  },
  {
   "cell_type": "code",
   "execution_count": null,
   "metadata": {},
   "outputs": [],
   "source": [
    "def imprimir_ranking(ranking):\n",
    "    \"\"\"Devuelve el ranking ordenado en forma de cadena.\"\"\"\n",
    "    ranking_ordenado = sorted(ranking.items(), key=lambda x: x[1]['points'], reverse=True)\n",
    "\n",
    "    resultado = \"Jugador   Kills   Asistencias   Muertes   MVPs   Puntos\\n\"\n",
    "    resultado += \"---------------------------------------------------------\\n\"\n",
    "\n",
    "    for jugador, stats in ranking_ordenado:\n",
    "        resultado += f\"{jugador:<10} {stats['kills']:<8} {stats['assists']:<12} {stats['deaths']:<9} {stats['MVPs']:<6} {stats['points']:<6}\\n\"\n",
    "\n",
    "    resultado += \"---------------------------------------------------------\"\n",
    "    return resultado\n"
   ]
  }
 ],
 "metadata": {
  "kernelspec": {
   "display_name": "Python 3",
   "language": "python",
   "name": "python3"
  },
  "language_info": {
   "codemirror_mode": {
    "name": "ipython",
    "version": 3
   },
   "file_extension": ".py",
   "mimetype": "text/x-python",
   "name": "python",
   "nbconvert_exporter": "python",
   "pygments_lexer": "ipython3",
   "version": "3.12.9"
  }
 },
 "nbformat": 4,
 "nbformat_minor": 4
}
